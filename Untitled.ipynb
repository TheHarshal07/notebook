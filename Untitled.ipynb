{
 "cells": [
  {
   "cell_type": "code",
   "execution_count": 26,
   "id": "53b9e169",
   "metadata": {},
   "outputs": [],
   "source": [
    "from collections import namedtuple\n",
    "import re\n",
    "import pdfplumber\n",
    "import pandas as pd"
   ]
  },
  {
   "cell_type": "code",
   "execution_count": 27,
   "id": "0a05ea9f",
   "metadata": {},
   "outputs": [],
   "source": [
    "line = namedtuple('Line','Date Narration Chq ValueDt WithdrawalAmt DepositAmt Closing Balance')"
   ]
  },
  {
   "cell_type": "code",
   "execution_count": 28,
   "id": "0a602929",
   "metadata": {},
   "outputs": [
    {
     "data": {
      "text/plain": [
       "re.compile(r'\\d \\d{2,}', re.UNICODE)"
      ]
     },
     "execution_count": 28,
     "metadata": {},
     "output_type": "execute_result"
    }
   ],
   "source": [
    "line_re = re.compile(r'\\d \\d{2,}')\n",
    "line_re"
   ]
  },
  {
   "cell_type": "code",
   "execution_count": 29,
   "id": "9739263e",
   "metadata": {},
   "outputs": [],
   "source": [
    "def numbify(num):\n",
    "    return float(num.replace('$', '').replace(',', ''))"
   ]
  },
  {
   "cell_type": "code",
   "execution_count": 30,
   "id": "9068ca3a",
   "metadata": {},
   "outputs": [
    {
     "name": "stdout",
     "output_type": "stream",
     "text": [
      "PageNo.: 1\n",
      "AccountBranch : THALTEJ\n",
      "Address : SHOP NO.1,2,3,GROUNDFLOOR,\n",
      "DEVADITYACOMPLEX,\n",
      "THALTEJSHILAJROAD,THALTEJ,\n",
      "City : AHMEDABAD380052\n",
      "M/S. PRAJIPROJECTS LLP\n",
      "State : GUJARAT\n",
      "CBLOCK204DEVADITYAARCADE\n",
      "Phoneno. : 079-61606161\n",
      "ODLimit : 0.00\n",
      "OPPSILVER SQUARECOMPLEX\n",
      "Currency : INR\n",
      "THALTEJ\n",
      "Email : PRAJIPROJECTS@GMAIL.COM\n",
      "AHMEDABAD380054\n",
      "Cust ID : 135588022\n",
      "AccountNo : 50200045370435 PreferredCustomer\n",
      "GUJARATINDIA\n",
      "A/COpenDate : 01/11/2019\n",
      "AccountStatus : Regular\n",
      "JOINTHOLDERS:\n",
      ": HDFC0003779 MICR:380240066\n",
      "RTGS/NEFTIFSC\n",
      "BranchCode : 3779 ProductCode: 1313\n",
      "Nomination: NotRegistered\n",
      "Statement of account\n",
      "From : 01/02/2022 To : 22/02/2022\n",
      "Date Narration Chq./Ref.No. ValueDt Withdrawal Amt. DepositAmt. ClosingBalance\n",
      "01/02/22 ATW-416021XXXXXX5125-E1AWAH01-AHMEDABAD 0000000000004010 01/02/22 10,000.00 602,066.50\n",
      "02/02/22 RTGSDR-BARB0VJTTEJ-PRAJIPROJECTSLLP-N HDFCR52022020294 02/02/22 200,000.00 402,066.50\n",
      "ETBANK,MUM-HDFCR52022020294165454-FORO 165454\n",
      "JS\n",
      "02/02/22 NEFTCR-UTIB0000245-BPR000307051007DISB AXTB220332807357 02/02/22 973,415.00 1,375,481.50\n",
      "PRAJI-BPR000307051007PRAJI PROJECTSLL\n",
      "P-AXTB220332807357\n",
      "03/02/22 09111000010612-TPT-SALARYFORTHEMONTH 0000000256197913 03/02/22 202,500.00 1,172,981.50\n",
      "OF JANUARY-ZALAMAHESHKUMAR\n",
      "03/02/22 RTGSDR-BARB0VJTTEJ-PRAJIPROJECTSLLP-N HDFCR52022020394 03/02/22 200,000.00 972,981.50\n",
      "ETBANK,MUM-HDFCR52022020394506364-SRIYA 506364\n",
      "METALS\n",
      "03/02/22 IBFUNDS TRANSFERDR-59209825024478-PRAJ MB03163751947T28 03/02/22 50,000.00 922,981.50\n",
      "IPROJECTSLLP\n",
      "04/02/22 50200048665631-TPT-DEC21-PNLOGISTICS 0000000395646705 04/02/22 50,225.00 872,756.50\n",
      "05/02/22 IMPS-203611479566-TATACAPITALFINANCI-H 0000203611479566 05/02/22 1.00 872,757.50\n",
      "DFC-XXXXXXXXXX2683-TATACAPITALLIMITED\n",
      "05/02/22 00600310012683-51502116 0000202057004659 05/02/22 2,411,606.00 3,284,363.50\n",
      "05/02/22 ATW-416021XXXXXX5125-E1AWAH01-AHMEDABAD 0000000000004810 05/02/22 15,000.00 3,269,363.50\n",
      "05/02/22 NEFTDR-UBIN0542261-CSUGUNAKARREDDY-NE N036221821489361 05/02/22 125,399.00 3,143,964.50\n",
      "TBANK,MUM-N036221821489361-SEP21\n",
      "05/02/22 RTGSDR-PUNB0211120-MSDURGAEARTHMOVER HDFCR52022020595 05/02/22 205,800.00 2,938,164.50\n",
      "S-NETBANK,MUM-HDFCR52022020595005081-SE 005081\n",
      "P21\n",
      "05/02/22 NEFTDR-SBIN0005917-BNREARTHMOVERS-NET N036221821522505 05/02/22 198,594.00 2,739,570.50\n",
      "BANK,MUM-N036221821522505-SEP21\n",
      "05/02/22 NEFTDR-ICIC0007360-APTLINDSUSTRIALCOR N036221821533561 05/02/22 75,894.00 2,663,676.50\n",
      "P-NETBANK,MUM-N036221821533561-SEP21\n",
      "05/02/22 50200045378995-TPT-JST-TVASHTAINFRASTRU 0000000208755175 05/02/22 50,000.00 2,613,676.50\n",
      "CTURELLP\n",
      "HDFC BANK LIMITED\n",
      "*Closingbalanceincludesfundsearmarkedforholdandunclearedfunds\n",
      "Contentsofthisstatementwillbeconsideredcorrectifnoerrorisreportedwithin30daysofreceiptofstatement.TheaddressonthisstatementisthatonrecordwiththeBankasatthedayofrequesting\n",
      "thisstatement.\n",
      "StateaccountbranchGSTN:24AAACH2702H1Z6\n",
      "HDFCBankGSTINnumberdetailsareavailableathttps://www.hdfcbank.com/personal/making-payments/online-tax-payment/goods-and-service-tax.\n",
      "RegisteredOfficeAddress:HDFCBankHouse,SenapatiBapatMarg,LowerParel,Mumbai400013\n"
     ]
    }
   ],
   "source": [
    "with pdfplumber.open(\"hdfc.pdf\") as pdf:\n",
    "    page = pdf.pages[0]\n",
    "    text = page.extract_text(x_tolerance=2, y_tolerance=0)\n",
    "    print(text)"
   ]
  },
  {
   "cell_type": "code",
   "execution_count": 34,
   "id": "83a51565",
   "metadata": {},
   "outputs": [
    {
     "name": "stdout",
     "output_type": "stream",
     "text": [
      "\n",
      "\n",
      "\n",
      "\n",
      "\n",
      "IBFUNDS\n",
      "\n",
      "\n",
      "\n",
      "\n",
      "\n",
      "\n",
      "\n",
      "\n",
      "\n"
     ]
    }
   ],
   "source": [
    "data = []\n",
    "\n",
    "with pdfplumber.open(\"hdfc.pdf\") as pdf:\n",
    "    page = pdf.pages[0]\n",
    "    text = page.extract_text(x_tolerance=2, y_tolerance=0)\n",
    "    \n",
    "    for line in text.split('\\n'):\n",
    "        if line_re.search(line):\n",
    "            in_lines = True\n",
    "            Date, *Narration, Chq, ValueDt, WithdrawalAmt, DepositAmt, ClosingBalance = line.split()\n",
    "            Narration = ' '.join(Narration)\n",
    "            \n",
    "            print(Narration)"
   ]
  },
  {
   "cell_type": "code",
   "execution_count": null,
   "id": "7a07cac5",
   "metadata": {},
   "outputs": [],
   "source": []
  }
 ],
 "metadata": {
  "kernelspec": {
   "display_name": "Python 3 (ipykernel)",
   "language": "python",
   "name": "python3"
  },
  "language_info": {
   "codemirror_mode": {
    "name": "ipython",
    "version": 3
   },
   "file_extension": ".py",
   "mimetype": "text/x-python",
   "name": "python",
   "nbconvert_exporter": "python",
   "pygments_lexer": "ipython3",
   "version": "3.10.7"
  }
 },
 "nbformat": 4,
 "nbformat_minor": 5
}
