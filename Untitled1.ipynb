{
 "cells": [
  {
   "cell_type": "code",
   "execution_count": 1,
   "id": "52709e15",
   "metadata": {},
   "outputs": [],
   "source": [
    "import pdfplumber"
   ]
  },
  {
   "cell_type": "code",
   "execution_count": 2,
   "id": "949d5f94",
   "metadata": {},
   "outputs": [],
   "source": [
    "filename=\"hdfc.pdf\"\n",
    "pdf=pdfplumber.open(filename)"
   ]
  },
  {
   "cell_type": "code",
   "execution_count": 3,
   "id": "38b322c4",
   "metadata": {},
   "outputs": [],
   "source": [
    "table=pdf.pages[0].extract_table()"
   ]
  },
  {
   "cell_type": "code",
   "execution_count": 16,
   "id": "d915b87e",
   "metadata": {},
   "outputs": [
    {
     "name": "stdout",
     "output_type": "stream",
     "text": [
      "[['Date', 'Narration', 'Chq./Ref.No.', 'ValueDt', 'WithdrawalAmt.', 'DepositAmt.', 'ClosingBalance'], ['01/02/22\\n02/02/22\\n02/02/22\\n03/02/22\\n03/02/22\\n03/02/22\\n04/02/22\\n05/02/22\\n05/02/22\\n05/02/22\\n05/02/22\\n05/02/22\\n05/02/22\\n05/02/22\\n05/02/22', 'ATW-416021XXXXXX5125-E1AWAH01-AHMEDABAD\\nRTGSDR-BARB0VJTTEJ-PRAJIPROJECTSLLP-N\\nETBANK,MUM-HDFCR52022020294165454-FORO\\nJS\\nNEFTCR-UTIB0000245-BPR000307051007DISB\\nPRAJI-BPR000307051007PRAJIPROJECTSLL\\nP-AXTB220332807357\\n09111000010612-TPT-SALARYFORTHEMONTH\\nOFJANUARY-ZALAMAHESHKUMAR\\nRTGSDR-BARB0VJTTEJ-PRAJIPROJECTSLLP-N\\nETBANK,MUM-HDFCR52022020394506364-SRIYA\\nMETALS\\nIBFUNDSTRANSFERDR-59209825024478-PRAJ\\nIPROJECTSLLP\\n50200048665631-TPT-DEC21-PNLOGISTICS\\nIMPS-203611479566-TATACAPITALFINANCI-H\\nDFC-XXXXXXXXXX2683-TATACAPITALLIMITED\\n00600310012683-51502116\\nATW-416021XXXXXX5125-E1AWAH01-AHMEDABAD\\nNEFTDR-UBIN0542261-CSUGUNAKARREDDY-NE\\nTBANK,MUM-N036221821489361-SEP21\\nRTGSDR-PUNB0211120-MSDURGAEARTHMOVER\\nS-NETBANK,MUM-HDFCR52022020595005081-SE\\nP21\\nNEFTDR-SBIN0005917-BNREARTHMOVERS-NET\\nBANK,MUM-N036221821522505-SEP21\\nNEFTDR-ICIC0007360-APTLINDSUSTRIALCOR\\nP-NETBANK,MUM-N036221821533561-SEP21\\n50200045378995-TPT-JST-TVASHTAINFRASTRU\\nCTURELLP', '0000000000004010\\nHDFCR52022020294\\n165454\\nAXTB220332807357\\n0000000256197913\\nHDFCR52022020394\\n506364\\nMB03163751947T28\\n0000000395646705\\n0000203611479566\\n0000202057004659\\n0000000000004810\\nN036221821489361\\nHDFCR52022020595\\n005081\\nN036221821522505\\nN036221821533561\\n0000000208755175', '01/02/22\\n02/02/22\\n02/02/22\\n03/02/22\\n03/02/22\\n03/02/22\\n04/02/22\\n05/02/22\\n05/02/22\\n05/02/22\\n05/02/22\\n05/02/22\\n05/02/22\\n05/02/22\\n05/02/22', '10,000.00\\n200,000.00\\n202,500.00\\n200,000.00\\n50,000.00\\n50,225.00\\n15,000.00\\n125,399.00\\n205,800.00\\n198,594.00\\n75,894.00\\n50,000.00', '973,415.00\\n1.00\\n2,411,606.00', '602,066.50\\n402,066.50\\n1,375,481.50\\n1,172,981.50\\n972,981.50\\n922,981.50\\n872,756.50\\n872,757.50\\n3,284,363.50\\n3,269,363.50\\n3,143,964.50\\n2,938,164.50\\n2,739,570.50\\n2,663,676.50\\n2,613,676.50']]\n"
     ]
    }
   ],
   "source": [
    "header=1\n",
    "columns=list()\n",
    "for column in table:\n",
    "    if (column!=None and len(column)>1):\n",
    "        columns.append(column)\n",
    "print(columns, sep='\\n')\n"
   ]
  },
  {
   "cell_type": "code",
   "execution_count": 7,
   "id": "beb14674",
   "metadata": {},
   "outputs": [
    {
     "data": {
      "text/html": [
       "<div>\n",
       "<style scoped>\n",
       "    .dataframe tbody tr th:only-of-type {\n",
       "        vertical-align: middle;\n",
       "    }\n",
       "\n",
       "    .dataframe tbody tr th {\n",
       "        vertical-align: top;\n",
       "    }\n",
       "\n",
       "    .dataframe thead th {\n",
       "        text-align: right;\n",
       "    }\n",
       "</style>\n",
       "<table border=\"1\" class=\"dataframe\">\n",
       "  <thead>\n",
       "    <tr style=\"text-align: right;\">\n",
       "      <th></th>\n",
       "      <th>0</th>\n",
       "      <th>1</th>\n",
       "      <th>2</th>\n",
       "      <th>3</th>\n",
       "      <th>4</th>\n",
       "      <th>5</th>\n",
       "      <th>6</th>\n",
       "    </tr>\n",
       "  </thead>\n",
       "  <tbody>\n",
       "    <tr>\n",
       "      <th>0</th>\n",
       "      <td>Date</td>\n",
       "      <td>Narration</td>\n",
       "      <td>Chq./Ref.No.</td>\n",
       "      <td>ValueDt</td>\n",
       "      <td>WithdrawalAmt.</td>\n",
       "      <td>DepositAmt.</td>\n",
       "      <td>ClosingBalance</td>\n",
       "    </tr>\n",
       "    <tr>\n",
       "      <th>1</th>\n",
       "      <td>01/02/22\\n02/02/22\\n02/02/22\\n03/02/22\\n03/02/...</td>\n",
       "      <td>ATW-416021XXXXXX5125-E1AWAH01-AHMEDABAD\\nRTGSD...</td>\n",
       "      <td>0000000000004010\\nHDFCR52022020294\\n165454\\nAX...</td>\n",
       "      <td>01/02/22\\n02/02/22\\n02/02/22\\n03/02/22\\n03/02/...</td>\n",
       "      <td>10,000.00\\n200,000.00\\n202,500.00\\n200,000.00\\...</td>\n",
       "      <td>973,415.00\\n1.00\\n2,411,606.00</td>\n",
       "      <td>602,066.50\\n402,066.50\\n1,375,481.50\\n1,172,98...</td>\n",
       "    </tr>\n",
       "  </tbody>\n",
       "</table>\n",
       "</div>"
      ],
      "text/plain": [
       "                                                   0  \\\n",
       "0                                               Date   \n",
       "1  01/02/22\\n02/02/22\\n02/02/22\\n03/02/22\\n03/02/...   \n",
       "\n",
       "                                                   1  \\\n",
       "0                                          Narration   \n",
       "1  ATW-416021XXXXXX5125-E1AWAH01-AHMEDABAD\\nRTGSD...   \n",
       "\n",
       "                                                   2  \\\n",
       "0                                       Chq./Ref.No.   \n",
       "1  0000000000004010\\nHDFCR52022020294\\n165454\\nAX...   \n",
       "\n",
       "                                                   3  \\\n",
       "0                                            ValueDt   \n",
       "1  01/02/22\\n02/02/22\\n02/02/22\\n03/02/22\\n03/02/...   \n",
       "\n",
       "                                                   4  \\\n",
       "0                                     WithdrawalAmt.   \n",
       "1  10,000.00\\n200,000.00\\n202,500.00\\n200,000.00\\...   \n",
       "\n",
       "                                5  \\\n",
       "0                     DepositAmt.   \n",
       "1  973,415.00\\n1.00\\n2,411,606.00   \n",
       "\n",
       "                                                   6  \n",
       "0                                     ClosingBalance  \n",
       "1  602,066.50\\n402,066.50\\n1,375,481.50\\n1,172,98...  "
      ]
     },
     "execution_count": 7,
     "metadata": {},
     "output_type": "execute_result"
    }
   ],
   "source": [
    "import pandas as pd\n",
    "df=pd.DataFrame(table)\n",
    "# df.index=df[0]\n",
    "# df=df.rename_axis(index=None)\n",
    "# del df[0]\n",
    "# df.columns=columns\n",
    "df"
   ]
  },
  {
   "cell_type": "code",
   "execution_count": null,
   "id": "ce4e0367",
   "metadata": {},
   "outputs": [],
   "source": []
  }
 ],
 "metadata": {
  "kernelspec": {
   "display_name": "Python 3 (ipykernel)",
   "language": "python",
   "name": "python3"
  },
  "language_info": {
   "codemirror_mode": {
    "name": "ipython",
    "version": 3
   },
   "file_extension": ".py",
   "mimetype": "text/x-python",
   "name": "python",
   "nbconvert_exporter": "python",
   "pygments_lexer": "ipython3",
   "version": "3.10.7"
  }
 },
 "nbformat": 4,
 "nbformat_minor": 5
}
