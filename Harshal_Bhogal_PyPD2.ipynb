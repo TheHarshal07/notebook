{
 "cells": [
  {
   "cell_type": "markdown",
   "id": "d75962c2",
   "metadata": {},
   "source": [
    "# Import the PyPDF2 library"
   ]
  },
  {
   "cell_type": "code",
   "execution_count": 177,
   "id": "36278ecc",
   "metadata": {},
   "outputs": [],
   "source": [
    "# import PyPDF4\n",
    "# file = open(\"hdfc.pdf\",\"rb\")\n",
    "# reader = PyPDF4.PdfFileReader(file)\n",
    "# print(reader.numPages)\n",
    "# page1 = reader.getPage(0)\n",
    "# pdfdata = page1.extractText()\n",
    "# pdfdata"
   ]
  },
  {
   "cell_type": "markdown",
   "id": "7508c6ae",
   "metadata": {},
   "source": [
    "# Reading all the pages of PDF"
   ]
  },
  {
   "cell_type": "code",
   "execution_count": 176,
   "id": "74dbf82d",
   "metadata": {},
   "outputs": [],
   "source": [
    "# reader.getPage\n",
    "# pages1 = ''\n",
    "# for i in range(0,4):\n",
    "#     pages1 += reader.getPage(i).extractText()\n",
    "\n",
    "# pages1 = pages1.replace('\\n',' ')\n",
    "# # pages1"
   ]
  },
  {
   "cell_type": "markdown",
   "id": "450f5527",
   "metadata": {},
   "source": [
    "# Convert into the list of data"
   ]
  },
  {
   "cell_type": "code",
   "execution_count": 1,
   "id": "637d8597",
   "metadata": {},
   "outputs": [],
   "source": [
    "# import numpy as np\n",
    "# import pandas as pd\n",
    "\n",
    "# table_list = pdfdata.split('\\n')\n",
    "# l = np.array_split(table_list, len(table_list)/4)\n",
    "# for i in range(0,5):\n",
    "#     print(l[i])\n",
    "\n",
    "# l\n"
   ]
  },
  {
   "cell_type": "code",
   "execution_count": 166,
   "id": "de3fdea7",
   "metadata": {},
   "outputs": [],
   "source": [
    "from collections import namedtuple\n",
    "Line = namedtuple('Line','Date Narration Chq value Debit Credit')\n",
    "# Chq value Debit Credit Closingbalance"
   ]
  },
  {
   "cell_type": "code",
   "execution_count": 180,
   "id": "5d798a39",
   "metadata": {},
   "outputs": [
    {
     "data": {
      "text/plain": [
       "'100,000.50'"
      ]
     },
     "execution_count": 180,
     "metadata": {},
     "output_type": "execute_result"
    }
   ],
   "source": [
    "import re \n",
    "\n",
    "line_re = re.compile(r'(\\d{2}/\\d{2}/\\d{2}) ([A-Z].*) (\\w+\\d+) (\\d{2}/\\d{2}/\\d{2}) (\\d+[\\,|\\.]\\d+\\.\\d+) (\\d+[\\,|\\.]\\d+\\.\\d+)')\n",
    "line_re.search('01/02/22 ATW-416021XXXXXX5125-E1AWAH01-AHMEDABAD 0000000000004010 01/02/22 100,000.00 100,000.50').group(6)\n",
    "# '01/02/22 ATW-416021XXXXXX5125-E1AWAH01-AHMEDABAD HDFCR52022020595  01/02/22 100,000.00 100,22.50'.split()\n"
   ]
  },
  {
   "cell_type": "code",
   "execution_count": 181,
   "id": "f225b78a",
   "metadata": {},
   "outputs": [],
   "source": [
    "# for line in pages.split('\\n'):\n",
    "#     if line_re.match(line):\n",
    "# #         print(line)"
   ]
  },
  {
   "cell_type": "code",
   "execution_count": 182,
   "id": "7076b592",
   "metadata": {},
   "outputs": [],
   "source": [
    "file = \"hdfc.pdf\""
   ]
  },
  {
   "cell_type": "code",
   "execution_count": 214,
   "id": "8ab43852",
   "metadata": {},
   "outputs": [
    {
     "data": {
      "text/plain": [
       "[Line(Date='01/02/22', Narration='ATW-416021XXXXXX5125-E1AWAH01-AHMEDABAD', Chq='0000000000004010', value='01/02/22', Debit='10,000.00', Credit='602,066.50'),\n",
       " Line(Date='02/02/22', Narration='RTGSDR-BARB0VJTTEJ-PRAJIPROJECTSLLP-N', Chq='HDFCR52022020294', value='02/02/22', Debit='200,000.00', Credit='402,066.50'),\n",
       " Line(Date='03/02/22', Narration='RTGSDR-BARB0VJTTEJ-PRAJIPROJECTSLLP-N', Chq='HDFCR52022020394', value='03/02/22', Debit='200,000.00', Credit='972,981.50'),\n",
       " Line(Date='03/02/22', Narration='IBFUNDSTRANSFERDR-59209825024478-PRAJ', Chq='MB03163751947T28', value='03/02/22', Debit='50,000.00', Credit='922,981.50'),\n",
       " Line(Date='10/02/22', Narration='RTGSDR-BARB0VJTTEJ-PRAJIPROJECTSLLP-N', Chq='HDFCR52022021095', value='10/02/22', Debit='600,000.00', Credit='842,908.50'),\n",
       " Line(Date='10/02/22', Narration='NEFTDR-BARB0MANADI-SAYEDMAJID-NETBANK,', Chq='N041221828445149', value='10/02/22', Debit='25,000.00', Credit='817,908.50'),\n",
       " Line(Date='11/02/22', Narration='NEFTDR-BKID0002040-TVASHTAINFRASTRUCTU', Chq='N042221830417324', value='11/02/22', Debit='26,000.00', Credit='791,908.50'),\n",
       " Line(Date='14/02/22', Narration='NEFTDR-CBIN0283326-KOPPOLUPRANATHI-NET', Chq='N045221833573359', value='14/02/22', Debit='10,500.00', Credit='781,408.50'),\n",
       " Line(Date='14/02/22', Narration='NEFTDR-SBIN0021159-CHEPURIANURADHA-NE', Chq='N045221833579750', value='14/02/22', Debit='14,000.00', Credit='767,408.50'),\n",
       " Line(Date='15/02/22', Narration='SIHGA4P1181A0042883927SOUTHER-15/02/22', Chq='000000000000000', value='15/02/22', Debit='1,278.00', Credit='766,130.50'),\n",
       " Line(Date='15/02/22', Narration='NEFTDR-BARB0VJTTEJ-PRAJIPROJECTSLLP-N', Chq='N046221835266590', value='15/02/22', Debit='100,000.00', Credit='665,928.50'),\n",
       " Line(Date='16/02/22', Narration='FT-DR-10422000002002-SRICHAKRATR', Chq='0000000000000528', value='16/02/22', Debit='400,000.00', Credit='552,274.50'),\n",
       " Line(Date='17/02/22', Narration='IMPS-204813112035-PRAJIPROJECTSLLP-BAR', Chq='0000204813112035', value='17/02/22', Debit='10,000.00', Credit='542,274.50'),\n",
       " Line(Date='22/02/22', Narration='NEFTDR-UBIN0802948-KAMSALINOORJAHA-NET', Chq='N053221843695790', value='22/02/22', Debit='65,148.00', Credit='970,187.50'),\n",
       " Line(Date='22/02/22', Narration='NEFTDR-UBIN0545627-SHAIKMAHABOOB-NETBA', Chq='N053221843693105', value='22/02/22', Debit='82,170.00', Credit='888,017.50'),\n",
       " Line(Date='22/02/22', Narration='NEFTDR-SBIN0021495-SRIVENKATESHWARAGA', Chq='N053221843706724', value='22/02/22', Debit='93,463.00', Credit='794,554.50')]"
      ]
     },
     "execution_count": 214,
     "metadata": {},
     "output_type": "execute_result"
    }
   ],
   "source": [
    "import pdfplumber\n",
    "lines = []\n",
    "total_check = 0\n",
    "\n",
    "with pdfplumber.open(file) as pdf:\n",
    "    pages = pdf.pages\n",
    "    \n",
    "    for page in pdf.pages:\n",
    "        text = page.extract_text()\n",
    "        \n",
    "        for line in text.split('\\n'):\n",
    "#             print(line)\n",
    "            dt = line_re.search(line)\n",
    "#             print(dt)\n",
    "            if dt:\n",
    "                date, Narration, Chq, value, Debit, Credit  = dt.group(1), dt.group(2), dt.group(3), dt.group(4), dt.group(5), dt.group(6)\n",
    "                lines.append(Line(date, Narration, Chq, value, Debit, Credit))\n",
    "\n",
    "            else:\n",
    "                pass\n",
    "                \n",
    "lines"
   ]
  },
  {
   "cell_type": "code",
   "execution_count": 215,
   "id": "24a83d8a",
   "metadata": {},
   "outputs": [
    {
     "data": {
      "text/html": [
       "<div>\n",
       "<style scoped>\n",
       "    .dataframe tbody tr th:only-of-type {\n",
       "        vertical-align: middle;\n",
       "    }\n",
       "\n",
       "    .dataframe tbody tr th {\n",
       "        vertical-align: top;\n",
       "    }\n",
       "\n",
       "    .dataframe thead th {\n",
       "        text-align: right;\n",
       "    }\n",
       "</style>\n",
       "<table border=\"1\" class=\"dataframe\">\n",
       "  <thead>\n",
       "    <tr style=\"text-align: right;\">\n",
       "      <th></th>\n",
       "      <th>Date</th>\n",
       "      <th>Narration</th>\n",
       "      <th>Debit</th>\n",
       "      <th>Credit</th>\n",
       "    </tr>\n",
       "  </thead>\n",
       "  <tbody>\n",
       "    <tr>\n",
       "      <th>0</th>\n",
       "      <td>01/02/22</td>\n",
       "      <td>ATW-416021XXXXXX5125-E1AWAH01-AHMEDABAD</td>\n",
       "      <td>10,000.00</td>\n",
       "      <td>602,066.50</td>\n",
       "    </tr>\n",
       "    <tr>\n",
       "      <th>1</th>\n",
       "      <td>02/02/22</td>\n",
       "      <td>RTGSDR-BARB0VJTTEJ-PRAJIPROJECTSLLP-N</td>\n",
       "      <td>200,000.00</td>\n",
       "      <td>402,066.50</td>\n",
       "    </tr>\n",
       "    <tr>\n",
       "      <th>2</th>\n",
       "      <td>03/02/22</td>\n",
       "      <td>RTGSDR-BARB0VJTTEJ-PRAJIPROJECTSLLP-N</td>\n",
       "      <td>200,000.00</td>\n",
       "      <td>972,981.50</td>\n",
       "    </tr>\n",
       "    <tr>\n",
       "      <th>3</th>\n",
       "      <td>03/02/22</td>\n",
       "      <td>IBFUNDSTRANSFERDR-59209825024478-PRAJ</td>\n",
       "      <td>50,000.00</td>\n",
       "      <td>922,981.50</td>\n",
       "    </tr>\n",
       "    <tr>\n",
       "      <th>4</th>\n",
       "      <td>10/02/22</td>\n",
       "      <td>RTGSDR-BARB0VJTTEJ-PRAJIPROJECTSLLP-N</td>\n",
       "      <td>600,000.00</td>\n",
       "      <td>842,908.50</td>\n",
       "    </tr>\n",
       "    <tr>\n",
       "      <th>5</th>\n",
       "      <td>10/02/22</td>\n",
       "      <td>NEFTDR-BARB0MANADI-SAYEDMAJID-NETBANK,</td>\n",
       "      <td>25,000.00</td>\n",
       "      <td>817,908.50</td>\n",
       "    </tr>\n",
       "    <tr>\n",
       "      <th>6</th>\n",
       "      <td>11/02/22</td>\n",
       "      <td>NEFTDR-BKID0002040-TVASHTAINFRASTRUCTU</td>\n",
       "      <td>26,000.00</td>\n",
       "      <td>791,908.50</td>\n",
       "    </tr>\n",
       "    <tr>\n",
       "      <th>7</th>\n",
       "      <td>14/02/22</td>\n",
       "      <td>NEFTDR-CBIN0283326-KOPPOLUPRANATHI-NET</td>\n",
       "      <td>10,500.00</td>\n",
       "      <td>781,408.50</td>\n",
       "    </tr>\n",
       "    <tr>\n",
       "      <th>8</th>\n",
       "      <td>14/02/22</td>\n",
       "      <td>NEFTDR-SBIN0021159-CHEPURIANURADHA-NE</td>\n",
       "      <td>14,000.00</td>\n",
       "      <td>767,408.50</td>\n",
       "    </tr>\n",
       "    <tr>\n",
       "      <th>9</th>\n",
       "      <td>15/02/22</td>\n",
       "      <td>SIHGA4P1181A0042883927SOUTHER-15/02/22</td>\n",
       "      <td>1,278.00</td>\n",
       "      <td>766,130.50</td>\n",
       "    </tr>\n",
       "    <tr>\n",
       "      <th>10</th>\n",
       "      <td>15/02/22</td>\n",
       "      <td>NEFTDR-BARB0VJTTEJ-PRAJIPROJECTSLLP-N</td>\n",
       "      <td>100,000.00</td>\n",
       "      <td>665,928.50</td>\n",
       "    </tr>\n",
       "    <tr>\n",
       "      <th>11</th>\n",
       "      <td>16/02/22</td>\n",
       "      <td>FT-DR-10422000002002-SRICHAKRATR</td>\n",
       "      <td>400,000.00</td>\n",
       "      <td>552,274.50</td>\n",
       "    </tr>\n",
       "    <tr>\n",
       "      <th>12</th>\n",
       "      <td>17/02/22</td>\n",
       "      <td>IMPS-204813112035-PRAJIPROJECTSLLP-BAR</td>\n",
       "      <td>10,000.00</td>\n",
       "      <td>542,274.50</td>\n",
       "    </tr>\n",
       "    <tr>\n",
       "      <th>13</th>\n",
       "      <td>22/02/22</td>\n",
       "      <td>NEFTDR-UBIN0802948-KAMSALINOORJAHA-NET</td>\n",
       "      <td>65,148.00</td>\n",
       "      <td>970,187.50</td>\n",
       "    </tr>\n",
       "    <tr>\n",
       "      <th>14</th>\n",
       "      <td>22/02/22</td>\n",
       "      <td>NEFTDR-UBIN0545627-SHAIKMAHABOOB-NETBA</td>\n",
       "      <td>82,170.00</td>\n",
       "      <td>888,017.50</td>\n",
       "    </tr>\n",
       "    <tr>\n",
       "      <th>15</th>\n",
       "      <td>22/02/22</td>\n",
       "      <td>NEFTDR-SBIN0021495-SRIVENKATESHWARAGA</td>\n",
       "      <td>93,463.00</td>\n",
       "      <td>794,554.50</td>\n",
       "    </tr>\n",
       "  </tbody>\n",
       "</table>\n",
       "</div>"
      ],
      "text/plain": [
       "        Date                                Narration       Debit      Credit\n",
       "0   01/02/22  ATW-416021XXXXXX5125-E1AWAH01-AHMEDABAD   10,000.00  602,066.50\n",
       "1   02/02/22    RTGSDR-BARB0VJTTEJ-PRAJIPROJECTSLLP-N  200,000.00  402,066.50\n",
       "2   03/02/22    RTGSDR-BARB0VJTTEJ-PRAJIPROJECTSLLP-N  200,000.00  972,981.50\n",
       "3   03/02/22    IBFUNDSTRANSFERDR-59209825024478-PRAJ   50,000.00  922,981.50\n",
       "4   10/02/22    RTGSDR-BARB0VJTTEJ-PRAJIPROJECTSLLP-N  600,000.00  842,908.50\n",
       "5   10/02/22   NEFTDR-BARB0MANADI-SAYEDMAJID-NETBANK,   25,000.00  817,908.50\n",
       "6   11/02/22   NEFTDR-BKID0002040-TVASHTAINFRASTRUCTU   26,000.00  791,908.50\n",
       "7   14/02/22   NEFTDR-CBIN0283326-KOPPOLUPRANATHI-NET   10,500.00  781,408.50\n",
       "8   14/02/22    NEFTDR-SBIN0021159-CHEPURIANURADHA-NE   14,000.00  767,408.50\n",
       "9   15/02/22   SIHGA4P1181A0042883927SOUTHER-15/02/22    1,278.00  766,130.50\n",
       "10  15/02/22    NEFTDR-BARB0VJTTEJ-PRAJIPROJECTSLLP-N  100,000.00  665,928.50\n",
       "11  16/02/22         FT-DR-10422000002002-SRICHAKRATR  400,000.00  552,274.50\n",
       "12  17/02/22   IMPS-204813112035-PRAJIPROJECTSLLP-BAR   10,000.00  542,274.50\n",
       "13  22/02/22   NEFTDR-UBIN0802948-KAMSALINOORJAHA-NET   65,148.00  970,187.50\n",
       "14  22/02/22   NEFTDR-UBIN0545627-SHAIKMAHABOOB-NETBA   82,170.00  888,017.50\n",
       "15  22/02/22    NEFTDR-SBIN0021495-SRIVENKATESHWARAGA   93,463.00  794,554.50"
      ]
     },
     "execution_count": 215,
     "metadata": {},
     "output_type": "execute_result"
    }
   ],
   "source": [
    "import pandas as pd\n",
    "df = pd.DataFrame(lines)\n",
    "a = df.loc[:,[\"Date\",\"Narration\",\"Debit\",\"Credit\"]]\n",
    "a.head(50)"
   ]
  },
  {
   "cell_type": "code",
   "execution_count": null,
   "id": "1c7ae890",
   "metadata": {},
   "outputs": [],
   "source": []
  }
 ],
 "metadata": {
  "kernelspec": {
   "display_name": "Python 3 (ipykernel)",
   "language": "python",
   "name": "python3"
  },
  "language_info": {
   "codemirror_mode": {
    "name": "ipython",
    "version": 3
   },
   "file_extension": ".py",
   "mimetype": "text/x-python",
   "name": "python",
   "nbconvert_exporter": "python",
   "pygments_lexer": "ipython3",
   "version": "3.10.7"
  }
 },
 "nbformat": 4,
 "nbformat_minor": 5
}
